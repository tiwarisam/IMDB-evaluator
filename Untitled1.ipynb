{
  "nbformat": 4,
  "nbformat_minor": 0,
  "metadata": {
    "colab": {
      "provenance": []
    },
    "kernelspec": {
      "name": "python3",
      "display_name": "Python 3"
    },
    "language_info": {
      "name": "python"
    }
  },
  "cells": [
    {
      "cell_type": "code",
      "execution_count": null,
      "metadata": {
        "colab": {
          "base_uri": "https://localhost:8080/"
        },
        "id": "4ocMCFt0J8yZ",
        "outputId": "763309b3-19ee-4625-a772-e69620dcea02"
      },
      "outputs": [
        {
          "output_type": "stream",
          "name": "stdout",
          "text": [
            "\n",
            "🎬 Enter movie details to predict IMDb rating:\n",
            "Popularity: 2000\n",
            "Vote count: 500\n",
            "Budget ($): 0\n",
            "Revenue ($): 959848\n",
            "Runtime (minutes): 120\n",
            "Genre (e.g. Horror, Thriller): thriller\n",
            "Original language (e.g. en, es): en\n",
            "Status (e.g. Released, Post Production): released\n",
            "\n",
            "⭐ Predicted IMDb rating: 6.46\n"
          ]
        },
        {
          "output_type": "stream",
          "name": "stderr",
          "text": [
            "/usr/local/lib/python3.11/dist-packages/sklearn/utils/validation.py:2739: UserWarning: X does not have valid feature names, but StandardScaler was fitted with feature names\n",
            "  warnings.warn(\n"
          ]
        }
      ],
      "source": [
        "# 📌 1. Import libraries\n",
        "import pandas as pd\n",
        "import numpy as np\n",
        "from sklearn.model_selection import train_test_split\n",
        "from sklearn.preprocessing import LabelEncoder, StandardScaler\n",
        "from sklearn.ensemble import RandomForestRegressor\n",
        "from sklearn.metrics import mean_squared_error, r2_score\n",
        "\n",
        "\n",
        "# 📌 3. Load and clean the dataset\n",
        "df = pd.read_csv(\"/content/horror_movies.csv\")\n",
        "\n",
        "# Drop rows with missing vote_average (target)\n",
        "df = df.dropna(subset=['vote_average'])\n",
        "\n",
        "# Select useful features\n",
        "features = ['popularity', 'vote_count', 'budget', 'revenue', 'runtime',\n",
        "            'genre_names', 'original_language', 'status']\n",
        "target = 'vote_average'\n",
        "\n",
        "df = df[features + [target]].copy()\n",
        "df.fillna(\"Unknown\", inplace=True)\n",
        "\n",
        "# Encode categorical features\n",
        "label_encoders = {}\n",
        "for col in ['genre_names', 'original_language', 'status']:\n",
        "    le = LabelEncoder()\n",
        "    df[col] = le.fit_transform(df[col].astype(str))\n",
        "    label_encoders[col] = le\n",
        "\n",
        "# 📌 4. Prepare train/test sets\n",
        "X = df[features]\n",
        "y = df[target]\n",
        "\n",
        "scaler = StandardScaler()\n",
        "X_scaled = scaler.fit_transform(X)\n",
        "\n",
        "X_train, X_test, y_train, y_test = train_test_split(X_scaled, y, test_size=0.2, random_state=42)\n",
        "\n",
        "# 📌 5. Train the model\n",
        "model = RandomForestRegressor(n_estimators=100, random_state=42)\n",
        "model.fit(X_train, y_train)\n",
        "\n",
        "# 📌 6. Take user input\n",
        "print(\"\\n🎬 Enter movie details to predict IMDb rating:\")\n",
        "\n",
        "user_popularity = float(input(\"Popularity: \"))\n",
        "user_vote_count = int(input(\"Vote count: \"))\n",
        "user_budget = float(input(\"Budget ($): \"))\n",
        "user_revenue = float(input(\"Revenue ($): \"))\n",
        "user_runtime = float(input(\"Runtime (minutes): \"))\n",
        "user_genre = input(\"Genre (e.g. Horror, Thriller): \")\n",
        "user_lang = input(\"Original language (e.g. en, es): \")\n",
        "user_status = input(\"Status (e.g. Released, Post Production): \")\n",
        "\n",
        "# Encode input safely\n",
        "def safe_encode(val, encoder):\n",
        "    if val in encoder.classes_:\n",
        "        return encoder.transform([val])[0]\n",
        "    else:\n",
        "        encoder.classes_ = np.append(encoder.classes_, val)\n",
        "        return encoder.transform([val])[0]\n",
        "\n",
        "encoded_genre = safe_encode(user_genre, label_encoders['genre_names'])\n",
        "encoded_lang = safe_encode(user_lang, label_encoders['original_language'])\n",
        "encoded_status = safe_encode(user_status, label_encoders['status'])\n",
        "\n",
        "# Prepare input\n",
        "user_input = [[user_popularity, user_vote_count, user_budget,\n",
        "               user_revenue, user_runtime, encoded_genre,\n",
        "               encoded_lang, encoded_status]]\n",
        "\n",
        "user_input_scaled = scaler.transform(user_input)\n",
        "\n",
        "# 📌 7. Predict\n",
        "predicted_rating = model.predict(user_input_scaled)[0]\n",
        "print(f\"\\n⭐ Predicted IMDb rating: {round(predicted_rating, 2)}\")\n"
      ]
    },
    {
      "cell_type": "code",
      "source": [
        "from sklearn.ensemble import RandomForestRegressor\n",
        "import joblib\n",
        "\n",
        "# Sample model training\n",
        "model = RandomForestRegressor(n_estimators=100)\n",
        "model.fit(X_train, y_train)\n",
        "\n",
        "# Save model to a .pkl file\n",
        "joblib.dump(model, 'my_model.pkl')\n",
        "\n"
      ],
      "metadata": {
        "colab": {
          "base_uri": "https://localhost:8080/"
        },
        "id": "WzNiuF1AM9EJ",
        "outputId": "1a96541b-8462-4491-a93d-600b124ceedd"
      },
      "execution_count": null,
      "outputs": [
        {
          "output_type": "execute_result",
          "data": {
            "text/plain": [
              "['my_model.pkl']"
            ]
          },
          "metadata": {},
          "execution_count": 8
        }
      ]
    }
  ]
}